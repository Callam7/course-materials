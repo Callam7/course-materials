{
 "cells": [
  {
   "cell_type": "markdown",
   "metadata": {},
   "source": [
    "###### IN710: Object-Oriented Systems Development Semester One, 2020\n",
    "# Practical 01: Python 1\n",
    "\n",
    "In this practical, you complete a series of tasks covering today's lecture."
   ]
  },
  {
   "cell_type": "markdown",
   "metadata": {},
   "source": [
    "## Class example"
   ]
  },
  {
   "cell_type": "code",
   "execution_count": 2,
   "metadata": {},
   "outputs": [],
   "source": [
    "class Robot:\n",
    "    def __init__(self, name):\n",
    "        self.name = name\n",
    "    \n",
    "    def speak(self):\n",
    "        print(f'My name is {self.name}')\n",
    "\n",
    "def main():\n",
    "    mr_robot = Robot('Mr Robot')\n",
    "    mrs_robot = Robot('Mrs Robot')\n",
    "    mr_robot.speak()\n",
    "    mrs_robot.speak()\n",
    "    \n",
    "if __name__ == '__main__':\n",
    "    main()"
   ]
  },
  {
   "cell_type": "markdown",
   "metadata": {},
   "source": [
    "## Four main principles of OOP"
   ]
  },
  {
   "cell_type": "markdown",
   "metadata": {},
   "source": [
    "### Encapsulation\n",
    "**Task 1:** Create a class called ```Dog``` with the class attributes breed, age and color. For each class attribute, create a getter and setter using the ```@property``` decorator function.\n",
    "\n",
    "Use the two ```Dog``` objects provided in the ```main``` function to display the expected output."
   ]
  },
  {
   "cell_type": "code",
   "execution_count": 1,
   "metadata": {},
   "outputs": [],
   "source": [
    "# Write your Dog class solution here\n",
    "\n",
    "def main():\n",
    "    chihuahua = Dog('chihuahua', 1, 'white')\n",
    "    bulldog = Dog('bulldog', 5, 'brown')\n",
    "    \n",
    "    # Write your expected output solution here\n",
    "\n",
    "if __name__ == '__main__':\n",
    "    main()\n",
    "    \n",
    "# Expected output:\n",
    "\n",
    "# My chihuahua is black\n",
    "# My dog's age is 5"
   ]
  },
  {
   "cell_type": "markdown",
   "metadata": {},
   "source": [
    "### Abstraction\n",
    "**Task 2:** As aspiring developers, you should be confortable with explaining technical programming concepts to people with different backgrounds. Using a real-world example, how would you explain **abstraction** to a non-technical person?"
   ]
  },
  {
   "cell_type": "code",
   "execution_count": 7,
   "metadata": {},
   "outputs": [],
   "source": [
    "# Write your explaination here"
   ]
  },
  {
   "cell_type": "markdown",
   "metadata": {},
   "source": [
    "### Single Inheritance\n",
    "**Task 3:** Create two classes that inherit from ```Employee```. \n",
    "The ```SoftwareDeveloper``` class has one additional class attribute called ```prog_lang```. The ```ProductOwner``` also has one additional class attribute called ```employees```, but three class functions that add, remove and show employees managed by the Product Owner. Note that ```employees``` is a list of ```SoftwareDeveloper``` objects. \n",
    "\n",
    "Use the three ```SoftwareDeveloper``` objects and one ```ProductOwner``` object provided in the ```main``` function to display the expected output."
   ]
  },
  {
   "cell_type": "code",
   "execution_count": 8,
   "metadata": {},
   "outputs": [],
   "source": [
    "class Employee:\n",
    "    def __init__(self, first_name, last_name, salary):\n",
    "        self.first_name = first_name\n",
    "        self.last_name = last_name\n",
    "        self.salary = salary\n",
    "\n",
    "# Write your SoftwareDeveloper class solution here   \n",
    "\n",
    "# Write your ProductOwner class solution here   \n",
    "\n",
    "def main():\n",
    "    sft_dev_1 = SoftwareDeveloper('Alfredo', 'Boyle', 50000, 'C#')\n",
    "    sft_dev_2 = SoftwareDeveloper('Malik', 'Martin', 55000, 'JavaScript')\n",
    "    sft_dev_3 = SoftwareDeveloper('Livia', 'Martin', 75000, 'Kotlin')\n",
    "    prdt_owr = ProductOwner('Lillian', 'Cunningham', 100000, [sd1, sd3])\n",
    "    \n",
    "    # Write your expected output solution here\n",
    "\n",
    "if __name__ == '__main__':\n",
    "    main()\n",
    "    \n",
    "# Expected output:\n",
    "\n",
    "# Alfredo Boyle\n",
    "# Malik Martin"
   ]
  },
  {
   "cell_type": "markdown",
   "metadata": {},
   "source": [
    "### Polymorphism\n",
    "**Task 4:** The ```Language``` class has no class attributes but a class function called ```say_good_morning```. The ```French```, ```Japanese``` and ```Spanish``` classes inherit the ```say_good_morning``` class function from ```Language```. When you run this code, what is happening and why is it happening? Fix this code to display the expected output."
   ]
  },
  {
   "cell_type": "code",
   "execution_count": null,
   "metadata": {},
   "outputs": [],
   "source": [
    "# Write your explaination here\n",
    "\n",
    "class Language:\n",
    "    def say_good_morning(self):\n",
    "        raise NotImplementedError('say_good_morning was not implemented.')\n",
    "\n",
    "class French(Language):\n",
    "    def say_good_morning(self):\n",
    "        print('Bonjour')\n",
    "\n",
    "class Japanese(Language):\n",
    "    pass\n",
    "\n",
    "class Spanish(Language):\n",
    "    def say_good_morning(self):\n",
    "        print('Buenos días')\n",
    "\n",
    "def main():\n",
    "    fr = French()\n",
    "    ja = Japanese()\n",
    "    es = Spanish()\n",
    "    for lang in (fr, ja, es):\n",
    "        lang.say_good_morning()\n",
    "    \n",
    "if __name__ == '__main__':\n",
    "    main()\n",
    "    \n",
    "# Expected output:\n",
    "\n",
    "# Bonjour\n",
    "# おはようございます\n",
    "# Buenos días"
   ]
  },
  {
   "cell_type": "markdown",
   "metadata": {},
   "source": [
    "### Comprehensions\n",
    "**Task 5 - List Comprehensions:**"
   ]
  },
  {
   "cell_type": "code",
   "execution_count": null,
   "metadata": {},
   "outputs": [],
   "source": [
    "num_1 = [1, 2, 3, 4, 5]\n",
    "num_2 = [6, 7, 8, 9, 10]\n",
    "output = []\n",
    "\n",
    "for n1 in num_1:\n",
    "    for n2 in num_2:\n",
    "        if n1 % 2 == 0 and n2 % 2 == 0:\n",
    "            output.append((n1, n2))\n",
    "            \n",
    "# Write your list comprehension solution here  \n",
    "\n",
    "# Expected output:\n",
    "\n",
    "# [(2, 6), (2, 8), (2, 12), (4, 6), (4, 8), (4, 12)]"
   ]
  },
  {
   "cell_type": "code",
   "execution_count": null,
   "metadata": {},
   "outputs": [],
   "source": [
    "num_1 = [1, 2, 2, 3, 4, 5, 5]\n",
    "output = []\n",
    "\n",
    "# Write your list comprehension solution here \n",
    "\n",
    "# Expected output:\n",
    "\n",
    "# [2, 4]"
   ]
  },
  {
   "cell_type": "markdown",
   "metadata": {},
   "source": [
    "**Task 5 - Dictionary Comprehensions:**  "
   ]
  },
  {
   "cell_type": "code",
   "execution_count": null,
   "metadata": {},
   "outputs": [],
   "source": [
    "class Dog:\n",
    "    def __init__(self, name, is_aggressive):\n",
    "        self.name = name\n",
    "        self.is_aggressive = is_aggressive\n",
    "        \n",
    "def main():\n",
    "    dogs = [\n",
    "        Dog('American Pit Bull Terrier', True),\n",
    "        Dog('Cavalier King Charles Spaniel', False),\n",
    "        Dog('Labrador Retriever', False),\n",
    "        Dog('Rottweiler', True),\n",
    "        Dog('Shih Tzu', False)\n",
    "    ]\n",
    "    \n",
    "    # Write your dictionary comprehension solution here \n",
    "    \n",
    "if __name__ == '__main__':\n",
    "    main()\n",
    "    \n",
    "# Expect output:\n",
    "\n",
    "# {'Shih Tzu', 'Labrador Retriever', 'Cavalier King Charles Spaniel'}"
   ]
  }
 ],
 "metadata": {
  "kernelspec": {
   "display_name": "Python 3",
   "language": "python",
   "name": "python3"
  },
  "language_info": {
   "codemirror_mode": {
    "name": "ipython",
    "version": 3
   },
   "file_extension": ".py",
   "mimetype": "text/x-python",
   "name": "python",
   "nbconvert_exporter": "python",
   "pygments_lexer": "ipython3",
   "version": "3.7.3"
  }
 },
 "nbformat": 4,
 "nbformat_minor": 2
}
